{
 "cells": [
  {
   "cell_type": "code",
   "execution_count": 3,
   "id": "5ba34504",
   "metadata": {},
   "outputs": [
    {
     "name": "stdout",
     "output_type": "stream",
     "text": [
      "xcode-select: note: no developer tools were found at '/Applications/Xcode.app', requesting install. Choose an option in the dialog to download the command line developer tools.\r\n"
     ]
    },
    {
     "ename": "FileNotFoundError",
     "evalue": "[Errno 2] No such file or directory: 'Japan.xlsx'",
     "output_type": "error",
     "traceback": [
      "\u001b[0;31m---------------------------------------------------------------------------\u001b[0m",
      "\u001b[0;31mFileNotFoundError\u001b[0m                         Traceback (most recent call last)",
      "\u001b[0;32m/var/folders/b0/57kzptsx0g5328d_nd9w69z40000gn/T/ipykernel_55287/614072710.py\u001b[0m in \u001b[0;36m<module>\u001b[0;34m\u001b[0m\n\u001b[1;32m      6\u001b[0m \u001b[0;32mimport\u001b[0m \u001b[0mdatetime\u001b[0m \u001b[0;32mas\u001b[0m \u001b[0mdt\u001b[0m\u001b[0;34m\u001b[0m\u001b[0;34m\u001b[0m\u001b[0m\n\u001b[1;32m      7\u001b[0m \u001b[0;32mimport\u001b[0m \u001b[0mmatplotlib\u001b[0m\u001b[0;34m.\u001b[0m\u001b[0mpyplot\u001b[0m \u001b[0;32mas\u001b[0m \u001b[0mplt\u001b[0m\u001b[0;34m\u001b[0m\u001b[0;34m\u001b[0m\u001b[0m\n\u001b[0;32m----> 8\u001b[0;31m \u001b[0mdf_Japan\u001b[0m \u001b[0;34m=\u001b[0m \u001b[0mpd\u001b[0m\u001b[0;34m.\u001b[0m\u001b[0mread_excel\u001b[0m\u001b[0;34m(\u001b[0m\u001b[0;34m'Japan.xlsx'\u001b[0m\u001b[0;34m)\u001b[0m\u001b[0;34m\u001b[0m\u001b[0;34m\u001b[0m\u001b[0m\n\u001b[0m\u001b[1;32m      9\u001b[0m \u001b[0mdf_USA\u001b[0m \u001b[0;34m=\u001b[0m \u001b[0mpd\u001b[0m\u001b[0;34m.\u001b[0m\u001b[0mread_excel\u001b[0m\u001b[0;34m(\u001b[0m\u001b[0;34m'US.xlsx'\u001b[0m\u001b[0;34m)\u001b[0m\u001b[0;34m\u001b[0m\u001b[0;34m\u001b[0m\u001b[0m\n\u001b[1;32m     10\u001b[0m \u001b[0;34m\u001b[0m\u001b[0m\n",
      "\u001b[0;32m~/opt/anaconda3/lib/python3.9/site-packages/pandas/util/_decorators.py\u001b[0m in \u001b[0;36mwrapper\u001b[0;34m(*args, **kwargs)\u001b[0m\n\u001b[1;32m    309\u001b[0m                     \u001b[0mstacklevel\u001b[0m\u001b[0;34m=\u001b[0m\u001b[0mstacklevel\u001b[0m\u001b[0;34m,\u001b[0m\u001b[0;34m\u001b[0m\u001b[0;34m\u001b[0m\u001b[0m\n\u001b[1;32m    310\u001b[0m                 )\n\u001b[0;32m--> 311\u001b[0;31m             \u001b[0;32mreturn\u001b[0m \u001b[0mfunc\u001b[0m\u001b[0;34m(\u001b[0m\u001b[0;34m*\u001b[0m\u001b[0margs\u001b[0m\u001b[0;34m,\u001b[0m \u001b[0;34m**\u001b[0m\u001b[0mkwargs\u001b[0m\u001b[0;34m)\u001b[0m\u001b[0;34m\u001b[0m\u001b[0;34m\u001b[0m\u001b[0m\n\u001b[0m\u001b[1;32m    312\u001b[0m \u001b[0;34m\u001b[0m\u001b[0m\n\u001b[1;32m    313\u001b[0m         \u001b[0;32mreturn\u001b[0m \u001b[0mwrapper\u001b[0m\u001b[0;34m\u001b[0m\u001b[0;34m\u001b[0m\u001b[0m\n",
      "\u001b[0;32m~/opt/anaconda3/lib/python3.9/site-packages/pandas/io/excel/_base.py\u001b[0m in \u001b[0;36mread_excel\u001b[0;34m(io, sheet_name, header, names, index_col, usecols, squeeze, dtype, engine, converters, true_values, false_values, skiprows, nrows, na_values, keep_default_na, na_filter, verbose, parse_dates, date_parser, thousands, decimal, comment, skipfooter, convert_float, mangle_dupe_cols, storage_options)\u001b[0m\n\u001b[1;32m    455\u001b[0m     \u001b[0;32mif\u001b[0m \u001b[0;32mnot\u001b[0m \u001b[0misinstance\u001b[0m\u001b[0;34m(\u001b[0m\u001b[0mio\u001b[0m\u001b[0;34m,\u001b[0m \u001b[0mExcelFile\u001b[0m\u001b[0;34m)\u001b[0m\u001b[0;34m:\u001b[0m\u001b[0;34m\u001b[0m\u001b[0;34m\u001b[0m\u001b[0m\n\u001b[1;32m    456\u001b[0m         \u001b[0mshould_close\u001b[0m \u001b[0;34m=\u001b[0m \u001b[0;32mTrue\u001b[0m\u001b[0;34m\u001b[0m\u001b[0;34m\u001b[0m\u001b[0m\n\u001b[0;32m--> 457\u001b[0;31m         \u001b[0mio\u001b[0m \u001b[0;34m=\u001b[0m \u001b[0mExcelFile\u001b[0m\u001b[0;34m(\u001b[0m\u001b[0mio\u001b[0m\u001b[0;34m,\u001b[0m \u001b[0mstorage_options\u001b[0m\u001b[0;34m=\u001b[0m\u001b[0mstorage_options\u001b[0m\u001b[0;34m,\u001b[0m \u001b[0mengine\u001b[0m\u001b[0;34m=\u001b[0m\u001b[0mengine\u001b[0m\u001b[0;34m)\u001b[0m\u001b[0;34m\u001b[0m\u001b[0;34m\u001b[0m\u001b[0m\n\u001b[0m\u001b[1;32m    458\u001b[0m     \u001b[0;32melif\u001b[0m \u001b[0mengine\u001b[0m \u001b[0;32mand\u001b[0m \u001b[0mengine\u001b[0m \u001b[0;34m!=\u001b[0m \u001b[0mio\u001b[0m\u001b[0;34m.\u001b[0m\u001b[0mengine\u001b[0m\u001b[0;34m:\u001b[0m\u001b[0;34m\u001b[0m\u001b[0;34m\u001b[0m\u001b[0m\n\u001b[1;32m    459\u001b[0m         raise ValueError(\n",
      "\u001b[0;32m~/opt/anaconda3/lib/python3.9/site-packages/pandas/io/excel/_base.py\u001b[0m in \u001b[0;36m__init__\u001b[0;34m(self, path_or_buffer, engine, storage_options)\u001b[0m\n\u001b[1;32m   1374\u001b[0m                 \u001b[0mext\u001b[0m \u001b[0;34m=\u001b[0m \u001b[0;34m\"xls\"\u001b[0m\u001b[0;34m\u001b[0m\u001b[0;34m\u001b[0m\u001b[0m\n\u001b[1;32m   1375\u001b[0m             \u001b[0;32melse\u001b[0m\u001b[0;34m:\u001b[0m\u001b[0;34m\u001b[0m\u001b[0;34m\u001b[0m\u001b[0m\n\u001b[0;32m-> 1376\u001b[0;31m                 ext = inspect_excel_format(\n\u001b[0m\u001b[1;32m   1377\u001b[0m                     \u001b[0mcontent_or_path\u001b[0m\u001b[0;34m=\u001b[0m\u001b[0mpath_or_buffer\u001b[0m\u001b[0;34m,\u001b[0m \u001b[0mstorage_options\u001b[0m\u001b[0;34m=\u001b[0m\u001b[0mstorage_options\u001b[0m\u001b[0;34m\u001b[0m\u001b[0;34m\u001b[0m\u001b[0m\n\u001b[1;32m   1378\u001b[0m                 )\n",
      "\u001b[0;32m~/opt/anaconda3/lib/python3.9/site-packages/pandas/io/excel/_base.py\u001b[0m in \u001b[0;36minspect_excel_format\u001b[0;34m(content_or_path, storage_options)\u001b[0m\n\u001b[1;32m   1248\u001b[0m         \u001b[0mcontent_or_path\u001b[0m \u001b[0;34m=\u001b[0m \u001b[0mBytesIO\u001b[0m\u001b[0;34m(\u001b[0m\u001b[0mcontent_or_path\u001b[0m\u001b[0;34m)\u001b[0m\u001b[0;34m\u001b[0m\u001b[0;34m\u001b[0m\u001b[0m\n\u001b[1;32m   1249\u001b[0m \u001b[0;34m\u001b[0m\u001b[0m\n\u001b[0;32m-> 1250\u001b[0;31m     with get_handle(\n\u001b[0m\u001b[1;32m   1251\u001b[0m         \u001b[0mcontent_or_path\u001b[0m\u001b[0;34m,\u001b[0m \u001b[0;34m\"rb\"\u001b[0m\u001b[0;34m,\u001b[0m \u001b[0mstorage_options\u001b[0m\u001b[0;34m=\u001b[0m\u001b[0mstorage_options\u001b[0m\u001b[0;34m,\u001b[0m \u001b[0mis_text\u001b[0m\u001b[0;34m=\u001b[0m\u001b[0;32mFalse\u001b[0m\u001b[0;34m\u001b[0m\u001b[0;34m\u001b[0m\u001b[0m\n\u001b[1;32m   1252\u001b[0m     ) as handle:\n",
      "\u001b[0;32m~/opt/anaconda3/lib/python3.9/site-packages/pandas/io/common.py\u001b[0m in \u001b[0;36mget_handle\u001b[0;34m(path_or_buf, mode, encoding, compression, memory_map, is_text, errors, storage_options)\u001b[0m\n\u001b[1;32m    793\u001b[0m         \u001b[0;32melse\u001b[0m\u001b[0;34m:\u001b[0m\u001b[0;34m\u001b[0m\u001b[0;34m\u001b[0m\u001b[0m\n\u001b[1;32m    794\u001b[0m             \u001b[0;31m# Binary mode\u001b[0m\u001b[0;34m\u001b[0m\u001b[0;34m\u001b[0m\u001b[0m\n\u001b[0;32m--> 795\u001b[0;31m             \u001b[0mhandle\u001b[0m \u001b[0;34m=\u001b[0m \u001b[0mopen\u001b[0m\u001b[0;34m(\u001b[0m\u001b[0mhandle\u001b[0m\u001b[0;34m,\u001b[0m \u001b[0mioargs\u001b[0m\u001b[0;34m.\u001b[0m\u001b[0mmode\u001b[0m\u001b[0;34m)\u001b[0m\u001b[0;34m\u001b[0m\u001b[0;34m\u001b[0m\u001b[0m\n\u001b[0m\u001b[1;32m    796\u001b[0m         \u001b[0mhandles\u001b[0m\u001b[0;34m.\u001b[0m\u001b[0mappend\u001b[0m\u001b[0;34m(\u001b[0m\u001b[0mhandle\u001b[0m\u001b[0;34m)\u001b[0m\u001b[0;34m\u001b[0m\u001b[0;34m\u001b[0m\u001b[0m\n\u001b[1;32m    797\u001b[0m \u001b[0;34m\u001b[0m\u001b[0m\n",
      "\u001b[0;31mFileNotFoundError\u001b[0m: [Errno 2] No such file or directory: 'Japan.xlsx'"
     ]
    }
   ],
   "source": [
    "!git clone https://github.com/07536245048/EC1B1-coursework.git\n",
    "#import packages to perform graphical and other functions later and read the downloaded data in Pandas dataframes, setting the Japan data and USA data to different variables\n",
    "import pandas as pd\n",
    "import numpy as np\n",
    "import seaborn as sns\n",
    "import datetime as dt\n",
    "import matplotlib.pyplot as plt\n",
    "df_Japan = pd.read_excel('Japan.xlsx')\n",
    "df_USA = pd.read_excel('US.xlsx')\n",
    "\n",
    "\n"
   ]
  },
  {
   "cell_type": "code",
   "execution_count": null,
   "id": "b13d4796",
   "metadata": {},
   "outputs": [],
   "source": [
    "#Change the header titles of the dataset with .rename() to variables that are more succint and comprehensive\n",
    "df_Japan.rename(columns = {'Unnamed: 0': 'Date', 'Economic Activity, Industrial Production, Index': 'Japan Industrial Production', 'Prices, Consumer Price Index, All items, Index': 'Japan CPI', 'Exchange Rates, National Currency Per U.S. Dollar, Period Average, Rate': 'Exchange Rates Per U.S. Dollar', 'International Reserves and Liquidity, Reserves, Official Reserve Assets, US Dollar' : 'Japan International Reserves and Liquidity'}, inplace = True)\n",
    "df_USA.rename(columns = {'Unnamed: 0': 'Date', 'Prices, Consumer Price Index, All items, Index': 'USA CPI', 'International Reserves and Liquidity, Reserves, Official Reserve Assets, US Dollar' : 'USA International Reserves and Liquidity'}, inplace = True)\n",
    "\n"
   ]
  },
  {
   "cell_type": "code",
   "execution_count": null,
   "id": "fb27f3de",
   "metadata": {},
   "outputs": [],
   "source": [
    "#Merge the two data sets at the month level with .merge() and assign to variable df_both\n",
    "df_both = pd.merge(df_Japan, df_USA, on = ['Date'])\n",
    "\n"
   ]
  },
  {
   "cell_type": "code",
   "execution_count": null,
   "id": "c2acd54c",
   "metadata": {},
   "outputs": [],
   "source": [
    "#Convert all numerical data to floats using .astype so that we can perform quantitative functions with them\n",
    "df_both = df_both.astype({'Japan Industrial Production':'float','Exchange Rates Per U.S. Dollar':'float','Japan CPI':'float','USA CPI':'float'})\n"
   ]
  },
  {
   "cell_type": "code",
   "execution_count": null,
   "id": "3a6eb4dc",
   "metadata": {},
   "outputs": [],
   "source": [
    "#Use the datetime function to format the dates\n",
    "df_both['Date'] = pd.to_datetime(df_both['Date']).dt.date\n",
    "\n"
   ]
  },
  {
   "cell_type": "code",
   "execution_count": null,
   "id": "b5bbba40",
   "metadata": {},
   "outputs": [],
   "source": [
    "#Create a variable for log exchange rate using np.log() of Exchange Rates variable\n",
    "df_both['Japan Log Exchange Rate'] = np.log(df_both['Exchange Rates Per U.S. Dollar'])"
   ]
  },
  {
   "cell_type": "code",
   "execution_count": null,
   "id": "d210bfdb",
   "metadata": {},
   "outputs": [],
   "source": [
    "#Create a variable for the monthly change in log exchange rate using .diff(). Change in nominal ER can be calculated by doing difference in logs on a monthly basis with periods=1\n",
    "df_both['Japan Monthly Nominal ER Growth'] = df_both['Japan Log Exchange Rate'].diff()\n",
    "\n"
   ]
  },
  {
   "cell_type": "markdown",
   "id": "f09cdd82",
   "metadata": {},
   "source": [
    "Create a variable for Japan Inflation Monthly Change. Do this by taking the CPI for time period 1 using .shift() and CPI for time period 0. Inflation is the growth in CPI between two consecutive periods so divide the difference in CPI for the two periods by the CPI in period 0. Finally, use .drop() to remove the variable created for CPI in period 1. This method will repeat the process for all 2 consecutive time periods across the 30 years.\n",
    "Could also use .diff() method for log of CPI"
   ]
  },
  {
   "cell_type": "code",
   "execution_count": null,
   "id": "840727c6",
   "metadata": {},
   "outputs": [],
   "source": [
    "#Create a variable for Japan Inflation Monthly Change. Description in line above\n",
    "df_both['Japan CPI t+1'] = df_both['Japan CPI'].shift()\n",
    "CPI_t = df_both['Japan CPI']\n",
    "CPI_t1 = df_both['Japan CPI t+1']\n",
    "df_both['Japan Inflation Monthly Change'] = (CPI_t - CPI_t1)/CPI_t1\n",
    "df_both.drop('Japan CPI t+1', inplace=True, axis=1)\n",
    "\n",
    "\n"
   ]
  },
  {
   "cell_type": "code",
   "execution_count": null,
   "id": "c51baeee",
   "metadata": {},
   "outputs": [],
   "source": [
    "#Create a variable for Log Industrial Production using np.log() of Indsutrial Production variable\n",
    "df_both['Japan Log Industrial Production'] = np.log(df_both['Japan Industrial Production'])\n"
   ]
  },
  {
   "cell_type": "markdown",
   "id": "0cc465c7",
   "metadata": {},
   "source": [
    "Create a variable for monthly production growth. Do this by taking the production for time period 1 using .shift() and production for time period 0. Production growth is the growth in production between two consecutive periods so divide the difference in production for the two periods by the production in period 0. Finally, use .drop() to remove the variable created for production in period 1. This method will repeat the process for all 2 consecutive time periods across the 30 years"
   ]
  },
  {
   "cell_type": "code",
   "execution_count": null,
   "id": "e7bc2736",
   "metadata": {},
   "outputs": [],
   "source": [
    "#Create a variable for monthly production growth. Description in line above\n",
    "df_both['Industrial Production t+1'] = df_both['Japan Industrial Production'].shift()\n",
    "Prod_t = df_both['Japan Industrial Production']\n",
    "Prod_t1 = df_both['Industrial Production t+1']\n",
    "df_both['Japan Production Monthly Growth'] = (Prod_t - Prod_t1)/Prod_t1\n",
    "df_both.drop('Industrial Production t+1', inplace=True, axis=1)\n",
    "\n"
   ]
  },
  {
   "cell_type": "markdown",
   "id": "bb072956",
   "metadata": {},
   "source": [
    "Create a variable for yearly production growth. Do this by taking the production for time period 12 using .shift(12) and production for time period 0. Annual roduction growth is the growth in production for every 12 periods so divide the difference in production for the period that is twelve months later by the production in period 0. Finally, use .drop() to remove the variable created for production in period 12. This method will repeat the process for all  time periods across the 30 years and give the growth in each month relative to 12 months earlier."
   ]
  },
  {
   "cell_type": "code",
   "execution_count": null,
   "id": "7c33fc07",
   "metadata": {},
   "outputs": [],
   "source": [
    "#Create a variable for yearly production growth. Description in line above\n",
    "df_both['Industrial Production t+12'] = df_both['Japan Industrial Production'].shift(12)\n",
    "Prod_t = df_both['Japan Industrial Production']\n",
    "Prod_t12 = df_both['Industrial Production t+12']\n",
    "df_both['Japan Production Yearly Growth'] = (Prod_t - Prod_t12)/Prod_t12\n",
    "df_both.drop('Industrial Production t+12', inplace=True, axis=1)\n",
    "\n",
    "\n"
   ]
  },
  {
   "cell_type": "code",
   "execution_count": null,
   "id": "f13602dc",
   "metadata": {},
   "outputs": [],
   "source": [
    "#Create a variable for an index of the value of Japan's international reserves (value of reserves at January 1960 = 100)\n",
    "Japan_International_reserve_1960M1 = df_Japan.iloc[0,3]\n",
    "df_both['Japan International Reserve index'] = df_both['Japan International Reserves and Liquidity']/Japan_International_reserve_1960M1*100\n",
    "df_both.drop('Japan International Reserves and Liquidity', inplace=True, axis=1)"
   ]
  },
  {
   "cell_type": "code",
   "execution_count": null,
   "id": "199db6e7",
   "metadata": {},
   "outputs": [],
   "source": [
    "#Create a variable for Log USA CPI by taking np.log() of US CPI\n",
    "df_both['Log USA CPI'] = np.log(df_both['USA CPI'])\n"
   ]
  },
  {
   "cell_type": "markdown",
   "id": "176c0a8c",
   "metadata": {},
   "source": [
    "Create a variable for USA Inflation Monthly Change. Do this by taking the CPI for time period 1 using .shift() and CPI for time period 0. Inflation is the growth in CPI between two consecutive periods so divide the difference in CPI for the two periods by the CPI in period 0. Finally, use .drop() to remove the variable created for CPI in period 1. This method will repeat the process for all 2 consecutive time periods across the 30 years"
   ]
  },
  {
   "cell_type": "code",
   "execution_count": null,
   "id": "df860b79",
   "metadata": {},
   "outputs": [],
   "source": [
    "#Create a variable for USA Inflation monthly. Description in line above\n",
    "df_both['USA CPI t+1'] = df_both['USA CPI'].shift()\n",
    "USCPI_t = df_both['USA CPI']\n",
    "USCPI_t1 = df_both['USA CPI t+1']\n",
    "df_both['USA Inflation Monthly Change'] = (USCPI_t - USCPI_t1)/USCPI_t1\n",
    "df_both.drop('USA CPI t+1', inplace=True, axis=1)\n",
    "\n",
    "\n"
   ]
  },
  {
   "cell_type": "code",
   "execution_count": null,
   "id": "68b2f470",
   "metadata": {},
   "outputs": [],
   "source": [
    "#Create a variable for an index of the value of USA international reserves (value of reserves at January 1960 = 100)\n",
    "USA_International_reserve_1960M1 = df_USA.iloc[0,1]\n",
    "df_both['USA International Reserve index'] = df_both['USA International Reserves and Liquidity']/USA_International_reserve_1960M1*100\n",
    "df_both.drop('USA International Reserves and Liquidity', inplace=True, axis=1)"
   ]
  },
  {
   "cell_type": "code",
   "execution_count": null,
   "id": "094d4377",
   "metadata": {},
   "outputs": [],
   "source": [
    "#Create a variable for Inflation difference between US and Japan by subtracting USA inflation change from Japan inflation change. We will use this variable later on\n",
    "df_both['Inflation Difference'] = df_both['Japan Inflation Monthly Change'] - df_both['USA Inflation Monthly Change']"
   ]
  },
  {
   "cell_type": "markdown",
   "id": "af7ae878",
   "metadata": {},
   "source": [
    "Firstly, calculate real exchange rate of Japan and assign this to variable Real ER by doing (Japan CPI x Nominal exchange rate per US dollar)/USA CPI.\n",
    "\n",
    "We can then find monthly growth in real exchange rates by using np.log() and .diff() to take the log of real ER and then difference it with periods=1 to find change between each consecutive month as the growth equals change in logs."
   ]
  },
  {
   "cell_type": "code",
   "execution_count": null,
   "id": "9a3db964",
   "metadata": {},
   "outputs": [],
   "source": [
    "#Create a variable for Japan monthly real exchange exchange rate growth. Description above\n",
    "\n",
    "df_both['Real ER'] = (df_both[\"Japan CPI\"]*df_both[\"Exchange Rates Per U.S. Dollar\"])/df_both[\"USA CPI\"]\n",
    "df_both['Japan Monthly Real ER Growth'] = (np.log(df_both['Real ER'])).diff()\n",
    "\n",
    "\n"
   ]
  },
  {
   "cell_type": "markdown",
   "id": "756c488e",
   "metadata": {},
   "source": [
    "To find outliers we begin by: 1) Creating a list of all the variable headers in the dataset and assign to column_titles variable.\n",
    "\n",
    "2) Using a for loop, for each variable header in column title, we work out the upper and lower limit for which we identify outliers. We calculate the interquartile range using the 75th percentile subtract 25th percentile for each column. To find the upper limit, we do 3rd quartile + IQR. For lower limit, we do 1st quartile - IQR since this is the mathematical definitions for outliers\n",
    "\n",
    "3) We then use a for loop within the original loop to loop through every value in each column. If the datapoint value is above the upper limit or below the lower limit then it is an outlier so we add it to a set\n",
    "\n",
    "4) If the set has small number of implausibly extreme observations then we can add them to the variable of outliers_library which is a collection of all outliers and we use np.where() to identify the values which are above the upper limit or below the lower limit\n",
    "\n",
    "5) We use .append() to add all outliers to this library so that we can view all of the outliers\n",
    "\n",
    "6) Create another for loop to loop through each outlier in outliers_library and we go through the entire library using range(len)) as it needs to be an integer and not a tuple. We locate each outlier and call it x and use .iloc[x,1:] to locate every outlier and then assign it to a missing value as np.nan\n",
    "\n",
    "The output lists the index of the outliers for each variable\n",
    "\n",
    "To interpolate:\n",
    "\n",
    "1) Use the df.interpolate() function and then use df.fillna() to replace the missing values with the average of surrounding values going from bottom to top using backfill method\n",
    "\n",
    "Second method and analysis of outliers below this method."
   ]
  },
  {
   "cell_type": "code",
   "execution_count": null,
   "id": "6da8e4e2",
   "metadata": {
    "scrolled": true
   },
   "outputs": [],
   "source": [
    "#Find and remove outliers. Interpolate missing values. Description in line above\n",
    "variable_titles = (list(df_both))\n",
    "variable_titles = variable_titles[1:]\n",
    "set = 0\n",
    "store = []\n",
    "\n",
    "df_zscore=(df_both - df_both.mean(numeric_only=True))/df_both.std(numeric_only=True)\n",
    "outliers = (df_zscore >3)|(df_zscore < -3)\n",
    "df_both[outliers]=np.nan\n",
    "\n",
    "df_both.interpolate(method = 'linear', inplace = True)\n",
    "df_both.fillna(method = 'backfill', inplace = True)\n",
    "\n",
    "    \n",
    "    "
   ]
  },
  {
   "cell_type": "markdown",
   "id": "7691907c",
   "metadata": {},
   "source": [
    "We can also use boxplots to identify outliers. A boxplot was created for each variable with an outlier being one that is located outside of the whiskers. This shows that the following variables have outliers: Nominal ER Growth, Real ER Growth, Japan Inflation Monthly Change, USA Inflation Monthly Change, Production Monthly Growth, Production Yearly Growth which confirms what the above method showed.\n",
    "\n",
    "From the code above that identifies outliers, the variables with less than 5 outliers are: Japan production monthly growth and Japan production yearly growth and Japan inflation monthly change and inflation difference"
   ]
  },
  {
   "cell_type": "code",
   "execution_count": null,
   "id": "a8b4cbb8",
   "metadata": {},
   "outputs": [],
   "source": [
    "#Boxplot method for outliers to identify which variables they are located in. Description above\n",
    "plt.figure(figsize=(4,4))\n",
    "sns.boxplot(data=df_both['Japan Industrial Production'], color='blue')\n",
    "plt.ylabel('Value')\n",
    "plt.xlabel('Japan Industrial Production')\n",
    "plt.show()\n",
    "\n",
    "plt.figure(figsize=(4,4))\n",
    "sns.boxplot(data=df_both['Exchange Rates Per U.S. Dollar'], color='purple')\n",
    "plt.ylabel('Value')\n",
    "plt.xlabel('Exchange Rates Per U.S. Dollar')\n",
    "plt.show()\n",
    "\n",
    "plt.figure(figsize=(4,4))\n",
    "sns.boxplot(data=df_both['Japan CPI'], color='cyan')\n",
    "plt.ylabel('Value')\n",
    "plt.xlabel('Japan CPI')\n",
    "plt.show()\n",
    "\n",
    "plt.figure(figsize=(4,4))\n",
    "sns.boxplot(data=df_both['USA CPI'], color='magenta')\n",
    "plt.ylabel('Value')\n",
    "plt.xlabel('USA CPI')\n",
    "plt.show()\n",
    "\n",
    "plt.figure(figsize=(4,4))\n",
    "sns.boxplot(data=df_both['USA Inflation Monthly Change'], color='green')\n",
    "plt.ylabel('Value')\n",
    "plt.xlabel('USA Inflation Monthly Change')\n",
    "plt.show()\n",
    "\n",
    "plt.figure(figsize=(4,4))\n",
    "sns.boxplot(data=df_both['Japan Log Exchange Rate'], color='orange')\n",
    "plt.ylabel('Value')\n",
    "plt.xlabel('Log Exchange Rate')\n",
    "plt.show()\n",
    "\n",
    "plt.figure(figsize=(4,4))\n",
    "sns.boxplot(data=df_both['Japan Monthly Nominal ER Growth'], color='red')\n",
    "plt.ylabel('Value')\n",
    "plt.xlabel('Japan Monthly Nominal ER Growth')\n",
    "plt.show()\n",
    "\n",
    "plt.figure(figsize=(4,4))\n",
    "sns.boxplot(data=df_both['Japan Monthly Real ER Growth'], color='red')\n",
    "plt.ylabel('Value')\n",
    "plt.xlabel('Japan Monthly Real ER Growth')\n",
    "plt.show()\n",
    "\n",
    "plt.figure(figsize=(4,4))\n",
    "sns.boxplot(data=df_both['Japan Inflation Monthly Change'], color='white')\n",
    "plt.ylabel('Value')\n",
    "plt.xlabel('Japan Inflation Monthly Change')\n",
    "plt.show()\n",
    "\n",
    "plt.figure(figsize=(4,4))\n",
    "sns.boxplot(data=df_both['Japan Log Industrial Production'], color='yellow')\n",
    "plt.ylabel('Value')\n",
    "plt.xlabel('Log Industrial Production')\n",
    "plt.show()\n",
    "\n",
    "plt.figure(figsize=(4,4))\n",
    "sns.boxplot(data=df_both['Japan Production Monthly Growth'], color='black')\n",
    "plt.ylabel('Value')\n",
    "plt.xlabel('Japan Production Monthly Growth')\n",
    "plt.show()\n",
    "\n",
    "plt.figure(figsize=(4,4))\n",
    "sns.boxplot(data=df_both['Japan International Reserve index'], color='purple')\n",
    "plt.ylabel('Value')\n",
    "plt.xlabel('Japan International Reserve index')\n",
    "plt.show()\n",
    "\n",
    "plt.figure(figsize=(4,4))\n",
    "sns.boxplot(data=df_both['Japan Production Yearly Growth'], color='green')\n",
    "plt.ylabel('Value')\n",
    "plt.xlabel('Japan Production Yearly Growth')\n",
    "plt.show()\n",
    "\n",
    "plt.figure(figsize=(4,4))\n",
    "sns.boxplot(data=df_both['Inflation Difference'], color='green')\n",
    "plt.ylabel('Value')\n",
    "plt.xlabel('Inflation Difference')\n",
    "plt.show()"
   ]
  },
  {
   "cell_type": "markdown",
   "id": "4a657a33",
   "metadata": {},
   "source": [
    "Now plot time series graphs for all of the variables. Use figure.() to choose a size that makes the graphs clear and easy to read. Use .title(), .xlabel(), .legend() to add titles and labels to the graph to make all parts of the graph understandable and clear. Use .axvline() to highlight the time at which Japan left the Bretton Woods system with a dashed line and a key in the legend. We also added a line for when the Nixon Shock occured because this helps us understand why there was fluctuations in macroeconomic aggregates before the exit but not throughout the bretton woods period and differentiates the impact of the Nixon shock from any outliers."
   ]
  },
  {
   "cell_type": "code",
   "execution_count": null,
   "id": "18e83b44",
   "metadata": {},
   "outputs": [],
   "source": [
    "#Time series graph of the monthly growth in nominal exchange rates of Japan, versus the US dollar\n",
    "plt.figure(figsize = (15,10))\n",
    "plt.plot(df_both['Date'], df_both[\"Japan Monthly Nominal ER Growth\"], label = \"Japan Nominal ER Growth\")\n",
    "plt.title(\"Japan Monthly Nominal Exchange Rate Growth in 1960-90\")\n",
    "plt.axvline(pd.to_datetime(\"1973-2-1\"), color = \"red\", linestyle = \"dashed\", label = \"Japan Bretton Woods Exit\")\n",
    "plt.axvline(pd.to_datetime(\"1971-8-1\"), color = \"green\", linestyle = \"dashed\", label = \"Nixon Shock\")\n",
    "plt.xlabel(\"Year\")\n",
    "plt.ylabel(\"Monthly Nominal Exchange Rate Growth (in %)\")\n",
    "plt.legend()\n",
    "plt.show()"
   ]
  },
  {
   "cell_type": "code",
   "execution_count": null,
   "id": "0fe547ee",
   "metadata": {},
   "outputs": [],
   "source": [
    "##Time series graph of the monthly growth in real exchange rates of Japan, versus the US dollar\n",
    "plt.figure(figsize = (15,10))\n",
    "plt.plot(df_both['Date'], df_both[\"Japan Monthly Real ER Growth\"], label = \"Japan Real ER Growth\")\n",
    "plt.title(\"Japan Monthly Real Exchange Rate Growth in 1960-90\")\n",
    "plt.axvline(pd.to_datetime(\"1973-2-1\"), color = \"red\", linestyle = \"dashed\", label = \"Japan Bretton Woods Exit\")\n",
    "plt.axvline(pd.to_datetime(\"1971-8-1\"), color = \"green\", linestyle = \"dashed\", label = \"Nixon Shock\")\n",
    "plt.xlabel(\"Year\")\n",
    "plt.ylabel(\"Monthly Real Exchange Rate Growth (in %)\")\n",
    "plt.legend()\n",
    "plt.show()"
   ]
  },
  {
   "cell_type": "code",
   "execution_count": null,
   "id": "7b05c009",
   "metadata": {},
   "outputs": [],
   "source": [
    "#Time series graph of the monthly indexed value of international reserves, Japan and USA\n",
    "plt.figure(figsize = (15,10))\n",
    "plt.plot(df_both['Date'], df_both['Japan International Reserve index'], label = 'Japan International Reserve Index')\n",
    "plt.plot(df_both['Date'], df_both['USA International Reserve index'], label = 'USA International Resverve Index')\n",
    "plt.title('International Reserve Index of Japan and USA, 1960-90 (value of reserves at January 1960 = 100)')\n",
    "plt.axvline(pd.to_datetime(\"1973-2-1\"), color = \"red\", linestyle = \"dashed\", label = \"Japan Bretton Woods Exit\")\n",
    "plt.axvline(pd.to_datetime(\"1971-8-1\"), color = \"green\", linestyle = \"dashed\", label = \"Nixon Shock\")\n",
    "plt.xlabel(\"Year\")\n",
    "plt.ylabel(\"International Reserve Index Value\")\n",
    "plt.legend()\n",
    "plt.show()"
   ]
  },
  {
   "cell_type": "code",
   "execution_count": null,
   "id": "6b800353",
   "metadata": {},
   "outputs": [],
   "source": [
    "#Time series graph of monthly inflation\n",
    "plt.figure(figsize = (15,10))\n",
    "plt.plot(df_both['Date'], df_both[\"Japan Inflation Monthly Change\"], label = \"Japan Inflation\")\n",
    "plt.title(\"Japan Inflation in 1960-90\")\n",
    "plt.axvline(pd.to_datetime(\"1973-2-1\"), color = \"red\", linestyle = \"dashed\", label = \"Japan Bretton Woods Exit\")\n",
    "plt.axvline(pd.to_datetime(\"1971-8-1\"), color = \"green\", linestyle = \"dashed\", label = \"Nixon Shock\")\n",
    "plt.xlabel(\"Year\")\n",
    "plt.ylabel(\"Inflation (in %)\")\n",
    "plt.legend()\n",
    "plt.show()"
   ]
  },
  {
   "cell_type": "code",
   "execution_count": null,
   "id": "04664758",
   "metadata": {},
   "outputs": [],
   "source": [
    "#Time series graph of the growth in industrial production versus 12 months ago\n",
    "plt.figure(figsize = (15,10))\n",
    "plt.plot(df_both['Date'], df_both[\"Japan Production Yearly Growth\"], label = \"Japan Annual Production Growth\")\n",
    "plt.title(\"Japan Production Yearly Growth in 1960-90\")\n",
    "plt.axvline(pd.to_datetime(\"1973-2-1\"), color = \"red\", linestyle = \"dashed\", label = \"Japan Bretton Woods Exit\")\n",
    "plt.axvline(pd.to_datetime(\"1971-8-1\"), color = \"green\", linestyle = \"dashed\", label = \"Nixon Shock\")\n",
    "plt.xlabel(\"Year\")\n",
    "plt.ylabel(\"Production Growth (in %)\")\n",
    "plt.legend()\n",
    "plt.show()"
   ]
  },
  {
   "cell_type": "code",
   "execution_count": null,
   "id": "54798852",
   "metadata": {},
   "outputs": [],
   "source": [
    "#Time series graph of the monthly growth in industrial production\n",
    "plt.figure(figsize = (15,10))\n",
    "plt.plot(df_both['Date'], df_both[\"Japan Production Monthly Growth\"], label = \"Japan Monthly Production Growth\")\n",
    "plt.title(\"Japan Production Monthly Growth in 1960-90\")\n",
    "plt.axvline(pd.to_datetime(\"1973-2-1\"), color = \"red\", linestyle = \"dashed\", label = \"Japan Bretton Woods Exit\")\n",
    "plt.axvline(pd.to_datetime(\"1971-8-1\"), color = \"green\", linestyle = \"dashed\", label = \"Nixon Shock\")\n",
    "plt.xlabel(\"Year\")\n",
    "plt.ylabel(\"Production Growth (in %)\")\n",
    "plt.legend()\n",
    "plt.show()\n",
    "\n"
   ]
  },
  {
   "cell_type": "markdown",
   "id": "751632a0",
   "metadata": {},
   "source": [
    "Firstly, identify the periods before and after the country left the Bretton Woods, leaving one year either side. This is done by using .loc[] indexing and selecting the rows required for these dates. Assign this to variables before_exit and after_exit. Index 131 is 10 months before the exit so we use .loc[0:131] and index 151 is 10 months after.\n",
    "\n",
    "Then create the variable Inflation Difference by calculating the difference between Japan and US inflation which we have already done in code above\n",
    "\n",
    "Assign all variables and column titles in the dataframe to 'variables'\n",
    "\n",
    "Create column_1 and column_2 which calculates the standard deviation of all of the values in each of the 'variables' columns by using .std() and this calculates the standard deviations for before_exit and after_exit respectively\n",
    "\n",
    "Create a table using pd.DataFrame which consists of column_1 and column_2 so shows the standard deviations for each variables before and after. Using .transpose() to present it clearly\n",
    "\n",
    "Calculate the ratio of before and after exit"
   ]
  },
  {
   "cell_type": "code",
   "execution_count": null,
   "id": "0ad866da",
   "metadata": {},
   "outputs": [],
   "source": [
    "#Calculate standard deviations using the method in the line above\n",
    "before_exit = df_both.loc[0:131]\n",
    "after_exit = df_both.loc[151:]\n",
    "variables = ['Japan Monthly Nominal ER Growth','Japan Monthly Real ER Growth','Japan Inflation Monthly Change','Inflation Difference','Japan Production Yearly Growth']\n",
    "column_1 = before_exit[variables].std()\n",
    "column_2 = after_exit[variables].std()\n",
    "Table = pd.DataFrame([column_1,column_2], index = ['Before Bretton Woods Exit', 'After Bretton Woods Exit']).transpose()\n",
    "Table['Ratio'] = Table['After Bretton Woods Exit']/Table['Before Bretton Woods Exit']\n",
    "Table\n",
    "                        "
   ]
  },
  {
   "cell_type": "code",
   "execution_count": null,
   "id": "df14839b",
   "metadata": {},
   "outputs": [],
   "source": [
    "#Increase max number of rows displayed to observe entire dataframe\n",
    "pd.set_option('display.max_rows', 500)"
   ]
  },
  {
   "cell_type": "code",
   "execution_count": null,
   "id": "13d13562",
   "metadata": {},
   "outputs": [],
   "source": [
    "#Rearrange columns to make the headers for Japan and USA separate\n",
    "df_both = df_both[['Date', 'Japan Industrial Production', 'Exchange Rates Per U.S. Dollar', 'Japan CPI', 'Japan Log Exchange Rate', 'Japan Log Industrial Production', 'Japan Production Monthly Growth', 'Japan Production Yearly Growth', 'Japan Monthly Nominal ER Growth', 'Japan Monthly Real ER Growth', 'Japan Inflation Monthly Change', 'Japan International Reserve index', 'USA CPI', 'Log USA CPI', 'USA Inflation Monthly Change', 'USA International Reserve index', 'Inflation Difference']]"
   ]
  },
  {
   "cell_type": "code",
   "execution_count": null,
   "id": "fca8e560",
   "metadata": {},
   "outputs": [],
   "source": [
    "df_both"
   ]
  }
 ],
 "metadata": {
  "kernelspec": {
   "display_name": "Python 3 (ipykernel)",
   "language": "python",
   "name": "python3"
  },
  "language_info": {
   "codemirror_mode": {
    "name": "ipython",
    "version": 3
   },
   "file_extension": ".py",
   "mimetype": "text/x-python",
   "name": "python",
   "nbconvert_exporter": "python",
   "pygments_lexer": "ipython3",
   "version": "3.9.13"
  }
 },
 "nbformat": 4,
 "nbformat_minor": 5
}
